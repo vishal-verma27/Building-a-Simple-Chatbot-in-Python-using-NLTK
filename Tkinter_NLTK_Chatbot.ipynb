{
  "cells": [
    {
      "cell_type": "markdown",
      "metadata": {
        "id": "view-in-github",
        "colab_type": "text"
      },
      "source": [
        "<a href=\"https://colab.research.google.com/github/vishal-verma27/Tkinter-NLTK-Chatbot/blob/main/Tkinter_NLTK_Chatbot.ipynb\" target=\"_parent\"><img src=\"https://colab.research.google.com/assets/colab-badge.svg\" alt=\"Open In Colab\"/></a>"
      ]
    },
    {
      "cell_type": "markdown",
      "metadata": {
        "id": "4TjZlMWWshk7"
      },
      "source": [
        "#### Website: https://pykit.org                                                                                                                                      \n",
        "#### Mail: info@pykit.org\n",
        "\n",
        "---\n",
        "\n",
        "#### About Pykit\n",
        "Pykit is a free online analytics resource website. pykit was founded in 2021 by [Vishal Verma](https://www.linkedin.com/in/vishalverma2701/). The main goal of this site is to provide quality tools, tutorials, courses, and other online resources that allow anyone to master Data Research & Analytics based on real case studies and industry projects.\n",
        "\n",
        "---\n",
        "#### [GitHub Link](https://github.com/vishal-verma27/Tkinter-NLTK-Chatbot)\n",
        "#### [Author Portfolio](https://eportfolio.mygreatlearning.com/vishal-verma2)"
      ]
    },
    {
      "cell_type": "markdown",
      "metadata": {
        "id": "vixmopIVshk8"
      },
      "source": [
        "### Importing Libraries"
      ]
    },
    {
      "cell_type": "code",
      "execution_count": null,
      "metadata": {
        "id": "wj8edLPwshk9"
      },
      "outputs": [],
      "source": [
        "# import necessary libraries\n",
        "import warnings\n",
        "warnings.filterwarnings(\"ignore\")\n",
        "import nltk\n",
        "from nltk.stem import WordNetLemmatizer\n",
        "import json\n",
        "import pickle\n",
        "\n",
        "import numpy as np\n",
        "from tensorflow.keras.models import Sequential\n",
        "from tensorflow.keras.layers import Dense, Activation, Dropout\n",
        "from tensorflow.keras.optimizers import SGD\n",
        "import random\n",
        "\n",
        "from keras.models import load_model\n",
        "\n",
        "# importing the GL Bot corpus file for pre-processing\n",
        "\n",
        "words=[]\n",
        "classes = []\n",
        "documents = []\n",
        "ignore_words = ['?', '!']\n",
        "data_file = open(\"Train_Bot.json\").read()\n",
        "intents = json.loads(data_file)"
      ]
    },
    {
      "cell_type": "markdown",
      "metadata": {
        "id": "6MItt3kYshk-"
      },
      "source": [
        "### Data Pre-Processing"
      ]
    },
    {
      "cell_type": "code",
      "execution_count": null,
      "metadata": {
        "id": "Iw-nNla4shk-"
      },
      "outputs": [],
      "source": [
        "# preprocessing the json data\n",
        "# tokenization\n",
        "\n",
        "for intent in intents['intents']:\n",
        "    for pattern in intent['patterns']:\n",
        "\n",
        "        #tokenize each word\n",
        "        w = nltk.word_tokenize(pattern)\n",
        "        words.extend(w)\n",
        "        #add documents in the corpus\n",
        "        documents.append((w, intent['tag']))\n",
        "\n",
        "        # add to our classes list\n",
        "        if intent['tag'] not in classes:\n",
        "            classes.append(intent['tag'])"
      ]
    },
    {
      "cell_type": "code",
      "execution_count": null,
      "metadata": {
        "id": "-BMx_zKyshk_",
        "outputId": "44a33b8f-683e-4781-f26e-571ae6556dcf"
      },
      "outputs": [
        {
          "name": "stdout",
          "output_type": "stream",
          "text": [
            "128 documents\n",
            "8 classes ['Bot', 'Exit', 'Intro', 'NN', 'Olympus', 'Profane', 'SL', 'Ticket']\n",
            "158 unique lemmatized words ['a', 'able', 'access', 'activation', 'ada', 'adam', 'aifl', 'aiml', 'am', 'an', 'ann', 'anyone', 'are', 'artificial', 'backward', 'bad', 'bagging', 'batch', 'bayes', 'belong', 'best', 'blended', 'bloody', 'boosting', 'bot', 'buddy', 'classification', 'contact', 'create', 'cross', 'cya', 'day', 'deep', 'did', 'diffult', 'do', 'ensemble', 'epoch', 'explain', 'first', 'for', 'forest', 'forward', 'from', 'function', 'good', 'goodbye', 'gradient', 'great', 'hate', 'have', 'hell', 'hello', 'help', 'helped', 'hey', 'hi', 'hidden', 'hour', 'how', 'hyper', 'i', 'imputer', 'in', 'intelligence', 'is', 'jerk', 'joke', 'knn', 'later', 'layer', 'learner', 'learning', 'leaving', 'link', 'listen', 'logistic', 'lot', 'machine', 'me', 'ml', 'my', 'naive', 'name', 'nb', 'net', 'network', 'neural', 'no', 'not', 'of', 'olympus', 'olypus', 'on', 'online', 'operation', 'opertions', 'otimizer', 'parameter', 'piece', 'please', 'pm', 'problem', 'propagation', 'random', 'regression', 'relu', 'screw', 'see', 'sgd', 'shit', 'sigmoid', 'sl', 'smart', 'softmax', 'solution', 'solved', 'stupid', 'supervised', 'svm', 'talking', 'teach', 'techb=niques', 'technique', 'thank', 'thanks', 'the', 'there', 'think', 'ticket', 'time', 'to', 'ton', 'too', 'tool', 'unable', 'understand', 'up', 'use', 'useless', 'validation', 'very', 'visible', 'wasted', 'weight', 'what', 'whats', 'when', 'who', 'whom', 'window', 'with', 'work', 'working', 'ya', 'yo', 'you', 'your']\n"
          ]
        }
      ],
      "source": [
        "# lemmatize, lower each word and remove duplicates\n",
        "\n",
        "words = [lemmatizer.lemmatize(w.lower()) for w in words if w not in ignore_words]\n",
        "words = sorted(list(set(words)))\n",
        "\n",
        "# sort classes\n",
        "classes = sorted(list(set(classes)))\n",
        "\n",
        "# documents = combination between patterns and intents\n",
        "print (len(documents), \"documents\")\n",
        "\n",
        "# classes = intents\n",
        "print (len(classes), \"classes\", classes)\n",
        "\n",
        "# words = all words, vocabulary\n",
        "print (len(words), \"unique lemmatized words\", words)\n",
        "\n",
        "# creating a pickle file to store the Python objects which we will use while predicting\n",
        "pickle.dump(words,open('words.pkl','wb')) \n",
        "pickle.dump(classes,open('classes.pkl','wb'))"
      ]
    },
    {
      "cell_type": "markdown",
      "metadata": {
        "id": "XR-oqJ0wshlA"
      },
      "source": [
        "### Creating Training Data"
      ]
    },
    {
      "cell_type": "code",
      "execution_count": null,
      "metadata": {
        "id": "LoM-44d9shlA",
        "outputId": "a407a3af-a963-4282-e81c-dc5a459db91d"
      },
      "outputs": [
        {
          "name": "stdout",
          "output_type": "stream",
          "text": [
            "Training data created\n"
          ]
        }
      ],
      "source": [
        "# create our training data\n",
        "training = []\n",
        "\n",
        "# create an empty array for our output\n",
        "output_empty = [0] * len(classes)\n",
        "\n",
        "# training set, bag of words for each sentence\n",
        "for doc in documents:\n",
        "    # initialize our bag of words\n",
        "    bag = []\n",
        "    # list of tokenized words for the pattern\n",
        "    pattern_words = doc[0]\n",
        "   \n",
        "    # lemmatize each word - create base word, in attempt to represent related words\n",
        "    pattern_words = [lemmatizer.lemmatize(word.lower()) for word in pattern_words]\n",
        "    \n",
        "    # create our bag of words array with 1, if word match found in current pattern\n",
        "    for w in words:\n",
        "        bag.append(1) if w in pattern_words else bag.append(0)\n",
        "    # output is a '0' for each tag and '1' for current tag (for each pattern)\n",
        "    output_row = list(output_empty)\n",
        "    output_row[classes.index(doc[1])] = 1\n",
        "    training.append([bag, output_row])\n",
        "\n",
        "# shuffle features and converting it into numpy arrays\n",
        "random.shuffle(training)\n",
        "training = np.array(training)\n",
        "\n",
        "# create train and test lists\n",
        "train_x = list(training[:,0])\n",
        "train_y = list(training[:,1])\n",
        "\n",
        "print(\"Training data created\")"
      ]
    },
    {
      "cell_type": "markdown",
      "metadata": {
        "id": "cJM2R1NHshlB"
      },
      "source": [
        "### Creating NN Model"
      ]
    },
    {
      "cell_type": "code",
      "execution_count": null,
      "metadata": {
        "id": "9VWroJgFshlB",
        "outputId": "84819b5f-b356-4217-d275-89d6097d5256"
      },
      "outputs": [
        {
          "name": "stdout",
          "output_type": "stream",
          "text": [
            "Epoch 1/100\n",
            "26/26 [==============================] - 0s 838us/step - loss: 2.0777 - accuracy: 0.2031\n",
            "Epoch 2/100\n",
            "26/26 [==============================] - 0s 758us/step - loss: 2.0155 - accuracy: 0.2188\n",
            "Epoch 3/100\n",
            "26/26 [==============================] - 0s 798us/step - loss: 1.9006 - accuracy: 0.2109\n",
            "Epoch 4/100\n",
            "26/26 [==============================] - 0s 878us/step - loss: 1.8282 - accuracy: 0.2578\n",
            "Epoch 5/100\n",
            "26/26 [==============================] - 0s 718us/step - loss: 1.7235 - accuracy: 0.3828\n",
            "Epoch 6/100\n",
            "26/26 [==============================] - 0s 838us/step - loss: 1.6970 - accuracy: 0.3672\n",
            "Epoch 7/100\n",
            "26/26 [==============================] - 0s 838us/step - loss: 1.6093 - accuracy: 0.4297\n",
            "Epoch 8/100\n",
            "26/26 [==============================] - 0s 638us/step - loss: 1.4923 - accuracy: 0.4453\n",
            "Epoch 9/100\n",
            "26/26 [==============================] - 0s 718us/step - loss: 1.4023 - accuracy: 0.4766\n",
            "Epoch 10/100\n",
            "26/26 [==============================] - 0s 678us/step - loss: 1.2606 - accuracy: 0.5625\n",
            "Epoch 11/100\n",
            "26/26 [==============================] - 0s 718us/step - loss: 1.2137 - accuracy: 0.5156\n",
            "Epoch 12/100\n",
            "26/26 [==============================] - 0s 718us/step - loss: 0.9739 - accuracy: 0.6719\n",
            "Epoch 13/100\n",
            "26/26 [==============================] - 0s 718us/step - loss: 0.9855 - accuracy: 0.6719\n",
            "Epoch 14/100\n",
            "26/26 [==============================] - 0s 718us/step - loss: 0.8694 - accuracy: 0.6484\n",
            "Epoch 15/100\n",
            "26/26 [==============================] - 0s 718us/step - loss: 0.8226 - accuracy: 0.7031\n",
            "Epoch 16/100\n",
            "26/26 [==============================] - 0s 718us/step - loss: 0.7330 - accuracy: 0.7266\n",
            "Epoch 17/100\n",
            "26/26 [==============================] - 0s 718us/step - loss: 0.6368 - accuracy: 0.7891\n",
            "Epoch 18/100\n",
            "26/26 [==============================] - 0s 758us/step - loss: 0.5455 - accuracy: 0.8125\n",
            "Epoch 19/100\n",
            "26/26 [==============================] - 0s 718us/step - loss: 0.4867 - accuracy: 0.8359\n",
            "Epoch 20/100\n",
            "26/26 [==============================] - 0s 718us/step - loss: 0.4592 - accuracy: 0.8750\n",
            "Epoch 21/100\n",
            "26/26 [==============================] - 0s 718us/step - loss: 0.3996 - accuracy: 0.8906\n",
            "Epoch 22/100\n",
            "26/26 [==============================] - 0s 718us/step - loss: 0.3892 - accuracy: 0.8984\n",
            "Epoch 23/100\n",
            "26/26 [==============================] - 0s 717us/step - loss: 0.4117 - accuracy: 0.8672\n",
            "Epoch 24/100\n",
            "26/26 [==============================] - 0s 678us/step - loss: 0.2743 - accuracy: 0.9219\n",
            "Epoch 25/100\n",
            "26/26 [==============================] - 0s 718us/step - loss: 0.3260 - accuracy: 0.8906\n",
            "Epoch 26/100\n",
            "26/26 [==============================] - 0s 718us/step - loss: 0.2599 - accuracy: 0.9219\n",
            "Epoch 27/100\n",
            "26/26 [==============================] - 0s 758us/step - loss: 0.2486 - accuracy: 0.9453\n",
            "Epoch 28/100\n",
            "26/26 [==============================] - 0s 718us/step - loss: 0.2286 - accuracy: 0.9219\n",
            "Epoch 29/100\n",
            "26/26 [==============================] - 0s 718us/step - loss: 0.2307 - accuracy: 0.9141\n",
            "Epoch 30/100\n",
            "26/26 [==============================] - 0s 718us/step - loss: 0.1902 - accuracy: 0.9453\n",
            "Epoch 31/100\n",
            "26/26 [==============================] - 0s 758us/step - loss: 0.2106 - accuracy: 0.9453\n",
            "Epoch 32/100\n",
            "26/26 [==============================] - 0s 718us/step - loss: 0.1554 - accuracy: 0.9766\n",
            "Epoch 33/100\n",
            "26/26 [==============================] - 0s 758us/step - loss: 0.1519 - accuracy: 0.9688\n",
            "Epoch 34/100\n",
            "26/26 [==============================] - 0s 678us/step - loss: 0.1660 - accuracy: 0.9531\n",
            "Epoch 35/100\n",
            "26/26 [==============================] - 0s 798us/step - loss: 0.1549 - accuracy: 0.9531\n",
            "Epoch 36/100\n",
            "26/26 [==============================] - 0s 758us/step - loss: 0.2397 - accuracy: 0.9375\n",
            "Epoch 37/100\n",
            "26/26 [==============================] - 0s 718us/step - loss: 0.1499 - accuracy: 0.9609\n",
            "Epoch 38/100\n",
            "26/26 [==============================] - 0s 718us/step - loss: 0.1204 - accuracy: 0.9766\n",
            "Epoch 39/100\n",
            "26/26 [==============================] - 0s 758us/step - loss: 0.1499 - accuracy: 0.9688\n",
            "Epoch 40/100\n",
            "26/26 [==============================] - 0s 758us/step - loss: 0.0982 - accuracy: 0.9844\n",
            "Epoch 41/100\n",
            "26/26 [==============================] - 0s 718us/step - loss: 0.0924 - accuracy: 0.9844\n",
            "Epoch 42/100\n",
            "26/26 [==============================] - 0s 798us/step - loss: 0.1454 - accuracy: 0.9531\n",
            "Epoch 43/100\n",
            "26/26 [==============================] - 0s 758us/step - loss: 0.1002 - accuracy: 0.9922\n",
            "Epoch 44/100\n",
            "26/26 [==============================] - 0s 678us/step - loss: 0.0896 - accuracy: 0.9844\n",
            "Epoch 45/100\n",
            "26/26 [==============================] - 0s 758us/step - loss: 0.1465 - accuracy: 0.9688\n",
            "Epoch 46/100\n",
            "26/26 [==============================] - 0s 798us/step - loss: 0.0890 - accuracy: 0.9844\n",
            "Epoch 47/100\n",
            "26/26 [==============================] - 0s 718us/step - loss: 0.1479 - accuracy: 0.9453\n",
            "Epoch 48/100\n",
            "26/26 [==============================] - 0s 718us/step - loss: 0.0999 - accuracy: 0.9688\n",
            "Epoch 49/100\n",
            "26/26 [==============================] - 0s 718us/step - loss: 0.0828 - accuracy: 0.9844\n",
            "Epoch 50/100\n",
            "26/26 [==============================] - 0s 758us/step - loss: 0.0348 - accuracy: 1.0000\n",
            "Epoch 51/100\n",
            "26/26 [==============================] - 0s 718us/step - loss: 0.0584 - accuracy: 1.0000\n",
            "Epoch 52/100\n",
            "26/26 [==============================] - 0s 758us/step - loss: 0.1279 - accuracy: 0.9531\n",
            "Epoch 53/100\n",
            "26/26 [==============================] - 0s 758us/step - loss: 0.0614 - accuracy: 0.9922\n",
            "Epoch 54/100\n",
            "26/26 [==============================] - 0s 759us/step - loss: 0.0635 - accuracy: 0.9922\n",
            "Epoch 55/100\n",
            "26/26 [==============================] - 0s 798us/step - loss: 0.1124 - accuracy: 0.9844\n",
            "Epoch 56/100\n",
            "26/26 [==============================] - 0s 718us/step - loss: 0.0572 - accuracy: 0.9922\n",
            "Epoch 57/100\n",
            "26/26 [==============================] - 0s 798us/step - loss: 0.0789 - accuracy: 0.9844\n",
            "Epoch 58/100\n",
            "26/26 [==============================] - 0s 798us/step - loss: 0.0434 - accuracy: 0.9844\n",
            "Epoch 59/100\n",
            "26/26 [==============================] - 0s 718us/step - loss: 0.0622 - accuracy: 0.9844\n",
            "Epoch 60/100\n",
            "26/26 [==============================] - 0s 758us/step - loss: 0.0539 - accuracy: 0.9844\n",
            "Epoch 61/100\n",
            "26/26 [==============================] - 0s 798us/step - loss: 0.1929 - accuracy: 0.9609\n",
            "Epoch 62/100\n",
            "26/26 [==============================] - 0s 798us/step - loss: 0.0926 - accuracy: 0.9766\n",
            "Epoch 63/100\n",
            "26/26 [==============================] - 0s 718us/step - loss: 0.0462 - accuracy: 1.0000\n",
            "Epoch 64/100\n",
            "26/26 [==============================] - 0s 718us/step - loss: 0.0378 - accuracy: 0.9922\n",
            "Epoch 65/100\n",
            "26/26 [==============================] - 0s 798us/step - loss: 0.0569 - accuracy: 0.9844\n",
            "Epoch 66/100\n",
            "26/26 [==============================] - 0s 718us/step - loss: 0.0332 - accuracy: 0.9922\n",
            "Epoch 67/100\n",
            "26/26 [==============================] - 0s 678us/step - loss: 0.0270 - accuracy: 1.0000\n",
            "Epoch 68/100\n",
            "26/26 [==============================] - 0s 718us/step - loss: 0.0298 - accuracy: 0.9922\n",
            "Epoch 69/100\n",
            "26/26 [==============================] - 0s 718us/step - loss: 0.0493 - accuracy: 0.9844\n",
            "Epoch 70/100\n",
            "26/26 [==============================] - 0s 718us/step - loss: 0.0355 - accuracy: 0.9922\n",
            "Epoch 71/100\n",
            "26/26 [==============================] - 0s 678us/step - loss: 0.0525 - accuracy: 0.9922\n",
            "Epoch 72/100\n",
            "26/26 [==============================] - 0s 798us/step - loss: 0.0319 - accuracy: 1.0000\n",
            "Epoch 73/100\n",
            "26/26 [==============================] - 0s 718us/step - loss: 0.0415 - accuracy: 0.9922\n",
            "Epoch 74/100\n",
            "26/26 [==============================] - 0s 718us/step - loss: 0.0396 - accuracy: 0.9922\n",
            "Epoch 75/100\n",
            "26/26 [==============================] - 0s 678us/step - loss: 0.0183 - accuracy: 1.0000\n",
            "Epoch 76/100\n",
            "26/26 [==============================] - 0s 718us/step - loss: 0.0268 - accuracy: 1.0000\n",
            "Epoch 77/100\n",
            "26/26 [==============================] - 0s 678us/step - loss: 0.0394 - accuracy: 0.9844\n",
            "Epoch 78/100\n",
            "26/26 [==============================] - 0s 678us/step - loss: 0.0292 - accuracy: 1.0000\n",
            "Epoch 79/100\n",
            "26/26 [==============================] - 0s 718us/step - loss: 0.0538 - accuracy: 0.9922\n",
            "Epoch 80/100\n",
            "26/26 [==============================] - 0s 678us/step - loss: 0.0363 - accuracy: 0.9844\n",
            "Epoch 81/100\n"
          ]
        },
        {
          "name": "stdout",
          "output_type": "stream",
          "text": [
            "26/26 [==============================] - 0s 678us/step - loss: 0.0638 - accuracy: 0.9688\n",
            "Epoch 82/100\n",
            "26/26 [==============================] - 0s 678us/step - loss: 0.0218 - accuracy: 1.0000\n",
            "Epoch 83/100\n",
            "26/26 [==============================] - 0s 678us/step - loss: 0.0421 - accuracy: 1.0000\n",
            "Epoch 84/100\n",
            "26/26 [==============================] - 0s 678us/step - loss: 0.0246 - accuracy: 1.0000\n",
            "Epoch 85/100\n",
            "26/26 [==============================] - 0s 638us/step - loss: 0.0232 - accuracy: 1.0000\n",
            "Epoch 86/100\n",
            "26/26 [==============================] - 0s 678us/step - loss: 0.0756 - accuracy: 0.9766\n",
            "Epoch 87/100\n",
            "26/26 [==============================] - 0s 638us/step - loss: 0.0339 - accuracy: 0.9922\n",
            "Epoch 88/100\n",
            "26/26 [==============================] - 0s 678us/step - loss: 0.0258 - accuracy: 1.0000\n",
            "Epoch 89/100\n",
            "26/26 [==============================] - 0s 678us/step - loss: 0.0444 - accuracy: 0.9922\n",
            "Epoch 90/100\n",
            "26/26 [==============================] - 0s 678us/step - loss: 0.0310 - accuracy: 1.0000\n",
            "Epoch 91/100\n",
            "26/26 [==============================] - 0s 678us/step - loss: 0.0309 - accuracy: 1.0000\n",
            "Epoch 92/100\n",
            "26/26 [==============================] - 0s 718us/step - loss: 0.0385 - accuracy: 0.9922\n",
            "Epoch 93/100\n",
            "26/26 [==============================] - 0s 678us/step - loss: 0.0195 - accuracy: 1.0000\n",
            "Epoch 94/100\n",
            "26/26 [==============================] - 0s 678us/step - loss: 0.0266 - accuracy: 0.9922\n",
            "Epoch 95/100\n",
            "26/26 [==============================] - 0s 678us/step - loss: 0.0338 - accuracy: 1.0000\n",
            "Epoch 96/100\n",
            "26/26 [==============================] - 0s 678us/step - loss: 0.0266 - accuracy: 1.0000\n",
            "Epoch 97/100\n",
            "26/26 [==============================] - 0s 638us/step - loss: 0.0235 - accuracy: 1.0000\n",
            "Epoch 98/100\n",
            "26/26 [==============================] - 0s 638us/step - loss: 0.0146 - accuracy: 1.0000\n",
            "Epoch 99/100\n",
            "26/26 [==============================] - 0s 638us/step - loss: 0.0213 - accuracy: 0.9922\n",
            "Epoch 100/100\n",
            "26/26 [==============================] - 0s 638us/step - loss: 0.0154 - accuracy: 1.0000\n",
            "\n",
            "\n",
            "**************************************************\n",
            "\n",
            "Model Created Successfully!\n"
          ]
        }
      ],
      "source": [
        "# Create NN model to predict the responses\n",
        "model = Sequential()\n",
        "model.add(Dense(128, input_shape=(len(train_x[0]),), activation='relu'))\n",
        "model.add(Dropout(0.5))\n",
        "model.add(Dense(64, activation='relu'))\n",
        "model.add(Dropout(0.5))\n",
        "model.add(Dense(len(train_y[0]), activation='softmax'))\n",
        "\n",
        "# Compile model. Stochastic gradient descent with Nesterov accelerated gradient gives good results for this model\n",
        "sgd = SGD(learning_rate=0.01, decay=1e-6, momentum=0.9, nesterov=True)\n",
        "model.compile(loss='categorical_crossentropy', optimizer=sgd, metrics=['accuracy'])\n",
        "\n",
        "#fitting and saving the model \n",
        "hist = model.fit(np.array(train_x), np.array(train_y), epochs=100, batch_size=5, verbose=1)\n",
        "model.save('chatbot.h5', hist) # we will pickle this model to use in the future\n",
        "print(\"\\n\")\n",
        "print(\"*\"*50)\n",
        "print(\"\\nModel Created Successfully!\")"
      ]
    },
    {
      "cell_type": "raw",
      "metadata": {
        "id": "JZx_lgMjshlC"
      },
      "source": [
        "The accuracy of the model is 100.00% which is quite impressive.\n",
        "\n",
        "In the further steps, we will import all the libraries and Train_Bot json data and use the pickled model for the prediction of responses."
      ]
    },
    {
      "cell_type": "markdown",
      "metadata": {
        "id": "SQdaRQkWshlC"
      },
      "source": [
        "### Repeating all the above steps and using the pickled model for the prediction of responses"
      ]
    },
    {
      "cell_type": "code",
      "execution_count": null,
      "metadata": {
        "id": "xZMwR2FUshlC"
      },
      "outputs": [],
      "source": [
        "# create an object of WordNetLemmatizer\n",
        "lemmatizer = WordNetLemmatizer()\n",
        "\n",
        "# load the saved model file\n",
        "model = load_model('chatbot.h5')\n",
        "intents = json.loads(open(\"Train_Bot.json\").read())\n",
        "words = pickle.load(open('words.pkl','rb'))\n",
        "classes = pickle.load(open('classes.pkl','rb'))"
      ]
    },
    {
      "cell_type": "code",
      "execution_count": null,
      "metadata": {
        "id": "C8ctzYIUshlC"
      },
      "outputs": [],
      "source": [
        "def clean_up_sentence(sentence):\n",
        "\n",
        "    # tokenize the pattern - split words into array\n",
        "    sentence_words = nltk.word_tokenize(sentence)\n",
        "    \n",
        "    # stem each word - create short form for word\n",
        "    sentence_words = [lemmatizer.lemmatize(word.lower()) for word in sentence_words]\n",
        "    return sentence_words\n",
        "\n",
        "\n",
        "# return bag of words array: 0 or 1 for each word in the bag that exists in the sentence\n",
        "\n",
        "def bow(sentence, words, show_details=True):\n",
        "\n",
        "    # tokenize the pattern\n",
        "    sentence_words = clean_up_sentence(sentence)\n",
        "\n",
        "    # bag of words - matrix of N words, vocabulary matrix\n",
        "    bag = [0]*len(words) \n",
        "    for s in sentence_words:\n",
        "        for i,w in enumerate(words):\n",
        "            if w == s: \n",
        "               \n",
        "                # assign 1 if current word is in the vocabulary position\n",
        "                bag[i] = 1\n",
        "                if show_details:\n",
        "                    print (\"found in bag: %s\" % w)\n",
        "    return(np.array(bag))\n",
        "\n",
        "def predict_class(sentence, model):\n",
        "   \n",
        "    # filter out predictions below a threshold\n",
        "    p = bow(sentence, words,show_details=False)\n",
        "    res = model.predict(np.array([p]))[0]\n",
        "    error = 0.25\n",
        "    results = [[i,r] for i,r in enumerate(res) if r>error]\n",
        "    \n",
        "    # sort by strength of probability\n",
        "    results.sort(key=lambda x: x[1], reverse=True)\n",
        "    return_list = []\n",
        "    \n",
        "    for r in results:\n",
        "        return_list.append({\"intent\": classes[r[0]], \"probability\": str(r[1])})\n",
        "    return return_list"
      ]
    },
    {
      "cell_type": "code",
      "execution_count": null,
      "metadata": {
        "id": "Euh-vcN1shlD"
      },
      "outputs": [],
      "source": [
        "# function to get the response from the model\n",
        "\n",
        "def getResponse(ints, intents_json):\n",
        "    tag = ints[0]['intent']\n",
        "    list_of_intents = intents_json['intents']\n",
        "    for i in list_of_intents:\n",
        "        if(i['tag']== tag):\n",
        "            result = random.choice(i['responses'])\n",
        "            break\n",
        "    return result\n",
        "\n",
        "# function to predict the class and get the response\n",
        "\n",
        "def chatbot_response(text):\n",
        "    ints = predict_class(text, model)\n",
        "    res = getResponse(ints, intents)\n",
        "    return res"
      ]
    },
    {
      "cell_type": "code",
      "execution_count": null,
      "metadata": {
        "id": "0L7Xq1Z4shlD"
      },
      "outputs": [],
      "source": [
        "# function to start the chat bot which will continue till the user type 'end'\n",
        "\n",
        "def start_chat():\n",
        "    print(\"Bot: This is Sophie! Your Personal Assistant.\\n\\n\")\n",
        "    while True:\n",
        "        inp = str(input()).lower()\n",
        "        if inp.lower()==\"end\":\n",
        "            break\n",
        "        if inp.lower()== '' or inp.lower()== '*':\n",
        "            print('Please re-phrase your query!')\n",
        "            print(\"-\"*50)\n",
        "        else:\n",
        "            print(f\"Bot: {chatbot_response(inp)}\"+'\\n')\n",
        "            print(\"-\"*50)"
      ]
    },
    {
      "cell_type": "markdown",
      "metadata": {
        "id": "obm5NUt9shlD"
      },
      "source": [
        "## Chatting with BOT using the Command Line Option"
      ]
    },
    {
      "cell_type": "code",
      "execution_count": null,
      "metadata": {
        "id": "4U0yon_pshlD",
        "outputId": "aa3342b4-caa2-414b-d662-e0a5054f6691"
      },
      "outputs": [
        {
          "name": "stdout",
          "output_type": "stream",
          "text": [
            "Bot: This is Sophie! Your Personal Assistant.\n",
            "\n",
            "\n",
            "hey\n",
            "Bot: Hello! how can i help you ?\n",
            "\n",
            "--------------------------------------------------\n",
            "hello\n",
            "Bot: Hello! how can i help you ?\n",
            "\n",
            "--------------------------------------------------\n",
            "hi\n",
            "Bot: Hello! how can i help you ?\n",
            "\n",
            "--------------------------------------------------\n",
            "there?\n",
            "Bot: Hello! how can i help you ?\n",
            "\n",
            "--------------------------------------------------\n",
            "What is ML?\n",
            "Bot: Link: Machine Learning wiki \n",
            "\n",
            "--------------------------------------------------\n",
            "You are not a good assistant\n",
            "Bot: Tarnsferring the request to your PM\n",
            "\n",
            "--------------------------------------------------\n",
            "end\n"
          ]
        }
      ],
      "source": [
        "# start the chat bot\n",
        "start_chat()"
      ]
    },
    {
      "cell_type": "markdown",
      "metadata": {
        "id": "zcbbmSC-shlD"
      },
      "source": [
        "## Chatting with BOT using the Tkinter App\n",
        "\n",
        "#### **For running the Tkinter GUI you have to download this notebook in ipynb format and run using jupyter notebook in your local machine/pc because in google colab, you cannot run Tkinter apps.**"
      ]
    },
    {
      "cell_type": "code",
      "execution_count": null,
      "metadata": {
        "id": "Uq62NGp4shlE"
      },
      "outputs": [],
      "source": [
        "import random\n",
        "import tkinter as tk\n",
        "from tkinter import *\n",
        "\n",
        "root=tk.Tk()\n",
        "filename=\"Chat Bot\"\n",
        "root.title(f\"Chat Bot\")\n",
        "root.geometry('500x400')\n",
        "root.resizable(False, False)\n",
        "message=tk.StringVar()\n",
        "\n",
        "chat_win=Frame(root,bd=1,bg='white',width=50,height=8)\n",
        "chat_win.place(x=6,y=6,height=300,width=488)\n",
        "\n",
        "textcon=tk.Text(chat_win,bd=1,bg='white',width=50,height=8)\n",
        "textcon.pack(fill=\"both\",expand=True)\n",
        "\n",
        "mes_win=Entry(root,width=30,xscrollcommand=True,textvariable=message)\n",
        "mes_win.place(x=6,y=310,height=60,width=380)\n",
        "mes_win.focus()\n",
        "\n",
        "textcon.config(fg='black')\n",
        "textcon.tag_config('usr',foreground='black')\n",
        "textcon.insert(END,\"Bot: This is Sophie! Your Personal Assistant.\\n\\n\")\n",
        "mssg=mes_win.get()\n",
        "\n",
        "exit_list = ['exit','break','quit','see you later','chat with you later','end the chat','bye','ok bye']\n",
        "\n",
        "def greet_res(text):\n",
        "    text=text.lower()\n",
        "    bot_greet=['hi','hello','hola','hey','howdy']\n",
        "    usr_greet=['hi','hey','hello','hola','greetings','wassup','whats up']\n",
        "    for word in text.split():\n",
        "        if word in usr_greet:\n",
        "            return random.choice(bot_greet)\n",
        "\n",
        "def send_msz(event=None):\n",
        "    usr_input = message.get()\n",
        "    usr_input = usr_input.lower()\n",
        "    textcon.insert(END, f'You: {usr_input}'+'\\n','usr')\n",
        "    if usr_input in exit_list:\n",
        "        textcon.config(fg='black')\n",
        "        textcon.insert(END,\"Bot: Ok bye! Chat with you later\\n\")\n",
        "        return root.destroy()\n",
        "    else:\n",
        "        textcon.config(fg='black')\n",
        "        if greet_res(usr_input) != None:\n",
        "            lab=f\"Bot: {greet_res(usr_input)}\"+'\\n'\n",
        "            textcon.insert(END,lab)\n",
        "            mes_win.delete(0,END)\n",
        "        else:\n",
        "            lab = f\"Bot: {chatbot_response(usr_input)}\"+'\\n'\n",
        "            textcon.insert(END,lab)\n",
        "            mes_win.delete(0,END)\n",
        "\n",
        "button_send=Button(root,text='Send',bg='dark green',activebackground='grey',command=send_msz,width=12,height=5,font=('Arial'))\n",
        "button_send.place(x=376,y=310,height=60,width=110)\n",
        "root.bind('<Return>', send_msz,button_send)\n",
        "root.mainloop()"
      ]
    },
    {
      "cell_type": "markdown",
      "metadata": {
        "id": "yhJ_PlIhshlE"
      },
      "source": [
        "### END"
      ]
    }
  ],
  "metadata": {
    "kernelspec": {
      "display_name": "Python 3",
      "language": "python",
      "name": "python3"
    },
    "language_info": {
      "codemirror_mode": {
        "name": "ipython",
        "version": 3
      },
      "file_extension": ".py",
      "mimetype": "text/x-python",
      "name": "python",
      "nbconvert_exporter": "python",
      "pygments_lexer": "ipython3",
      "version": "3.8.8"
    },
    "colab": {
      "name": "Tkinter-NLTK-Chatbot.ipynb",
      "provenance": [],
      "collapsed_sections": [],
      "include_colab_link": true
    }
  },
  "nbformat": 4,
  "nbformat_minor": 0
}